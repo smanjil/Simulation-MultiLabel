{
 "cells": [
  {
   "cell_type": "code",
   "execution_count": 1,
   "metadata": {},
   "outputs": [
    {
     "name": "stdout",
     "output_type": "stream",
     "text": [
      "[nltk_data] Downloading package stopwords to /home/ano/nltk_data...\n",
      "[nltk_data]   Package stopwords is already up-to-date!\n"
     ]
    }
   ],
   "source": [
    "import csv\n",
    "import fastText\n",
    "import nltk\n",
    "import os\n",
    "import pandas as pd\n",
    "import string\n",
    "\n",
    "nltk.download(\"stopwords\")\n",
    "\n",
    "from nltk.corpus import stopwords\n",
    "from nltk.stem import PorterStemmer"
   ]
  },
  {
   "cell_type": "markdown",
   "metadata": {},
   "source": [
    "Setting and defining file paths.\n",
    "Like setting it up for the input directory from where the input files can be read from, the output directory where the processed files can be stored.\n",
    "Setting model path for the classifier."
   ]
  },
  {
   "cell_type": "code",
   "execution_count": 2,
   "metadata": {},
   "outputs": [],
   "source": [
    "INPUT_DIR = 'data/input_csv/'\n",
    "OUTPUT_DIR = 'data/preprocessed_csv'\n",
    "MODEL_PATH = 'model/model_ted.bin'\n",
    "TRAIN_FILE_PATH = 'data/ted.train'\n",
    "VALIDATION_FILE_PATH = 'data/ted.valid'\n",
    "\n",
    "INPUT_FILES = list(map(\n",
    "    lambda file: os.path.join(INPUT_DIR, file), os.listdir(INPUT_DIR)\n",
    "))\n",
    "OUTPUT_FILE = os.path.join(OUTPUT_DIR, 'ted-new.txt')"
   ]
  },
  {
   "cell_type": "raw",
   "metadata": {},
   "source": [
    "Preprocessing csv files, as in using stemming and removing stopwords"
   ]
  },
  {
   "cell_type": "code",
   "execution_count": 3,
   "metadata": {},
   "outputs": [],
   "source": [
    "def data_stemming(data):\n",
    "    \"\"\"Perform porter stemming.\n",
    "\n",
    "    eg:\n",
    "    \"python\",\"pythoner\",\"pythoning\",\"pythoned\" will be reduced to \"python\"\n",
    "    \"\"\"\n",
    "    stemmer = PorterStemmer()\n",
    "\n",
    "    stemmed_val = data.apply(\n",
    "        lambda x: ' '.join([stemmer.stem(item) for item in x.split()]))\n",
    "\n",
    "    return stemmed_val\n",
    "\n",
    "\n",
    "def data_cleaning(data):\n",
    "    \"\"\"Perform punctuation removal and stopwords removal.\"\"\"\n",
    "    data = data.str.replace('[{}]'.format(string.punctuation), '')\n",
    "\n",
    "    stop = stopwords.words('english')\n",
    "\n",
    "    data = data.apply(lambda x: ' '.join(\n",
    "        [item.lower() for item in x.split() if item not in stop]))\n",
    "    data = data_stemming(data)\n",
    "\n",
    "    return data\n",
    "\n",
    "\n",
    "def csv_reader():\n",
    "    \"\"\"Read input files.\n",
    "\n",
    "    - prepare output path for respective files.\n",
    "    - perform punctuation removal.\n",
    "    - perform stopwords removal.\n",
    "    - perform stemming for better word matching.\n",
    "    \"\"\"\n",
    "    for file in INPUT_FILES:\n",
    "        if file != 'data/input_csv/.ipynb_checkpoints':\n",
    "            output_path = os.path.join(\n",
    "                OUTPUT_DIR,\n",
    "                '-'.join(['processed', file.split('/')[-1]])\n",
    "            )\n",
    "\n",
    "            # read input file as df\n",
    "            df = pd.read_csv(file, engine='python')\n",
    "\n",
    "            df['title'] = data_cleaning(df['title'])\n",
    "\n",
    "            df.to_csv(output_path, index=False)\n",
    "\n",
    "\n",
    "csv_reader()"
   ]
  },
  {
   "cell_type": "markdown",
   "metadata": {},
   "source": [
    "Function to process the csv columnar format to fasttext recognizable format."
   ]
  },
  {
   "cell_type": "code",
   "execution_count": 4,
   "metadata": {},
   "outputs": [],
   "source": [
    "def data_to_fasttext():\n",
    "    \"\"\"Convert data from input_csv format to fasttext_code format.\n",
    "\n",
    "    =======\n",
    "    input_csv:\n",
    "    =======\n",
    "    tags            title\n",
    "    python, os      this problem is crashing my python shell.\n",
    "\n",
    "    ========\n",
    "    fasttxt:\n",
    "    ========\n",
    "    __label__python __label__os this problem is crashing my python shell.\n",
    "    \"\"\"\n",
    "    final_data_string = ''\n",
    "\n",
    "    for file in INPUT_FILES:\n",
    "        if file != 'data/input_csv/.ipynb_checkpoints':\n",
    "            with open(file) as csvfile:\n",
    "                file_obj = csv.DictReader(csvfile, delimiter=',')\n",
    "\n",
    "                for line in file_obj:\n",
    "                    labels = ' '.join(\n",
    "                        list(map(\n",
    "                            lambda tag: '__label__' + tag, line['tags'].strip('[').strip(']').split(','))\n",
    "                        ))\n",
    "                    labels = labels + ' ' + line['title'] + '\\n'\n",
    "\n",
    "                    # write resulting one data line to final_data_string\n",
    "                    final_data_string += labels\n",
    "\n",
    "    # save resulting string to a text file\n",
    "    with open(OUTPUT_FILE, 'w') as f:\n",
    "        f.write(final_data_string)\n",
    "        \n",
    "data_to_fasttext()"
   ]
  },
  {
   "cell_type": "markdown",
   "metadata": {},
   "source": [
    "Fasttext implementation for predicting actual text contents."
   ]
  },
  {
   "cell_type": "code",
   "execution_count": 5,
   "metadata": {},
   "outputs": [],
   "source": [
    "class ImplementFastText:\n",
    "    \"\"\"Interface to fastText library.\n",
    "\n",
    "    args:\n",
    "\n",
    "\n",
    "    - load existing model\n",
    "    - predict tags\n",
    "    - calculate test scores\n",
    "\n",
    "    \"\"\"\n",
    "\n",
    "    def __init__(self):\n",
    "        \"\"\"Init class vars.\"\"\"\n",
    "        self.model = ''\n",
    "        self.precision = 0.0\n",
    "        self.recall = 0.0\n",
    "        self.f_score = 0.0\n",
    "\n",
    "    def load_model(self):\n",
    "        \"\"\"Load pre-trained model.\"\"\"\n",
    "        self.model = fastText.load_model(MODEL_PATH)\n",
    "\n",
    "    def score(self):\n",
    "        \"\"\"Get classification scores.\"\"\"\n",
    "        self.model_score = self.model.test(VALIDATION_FILE_PATH)\n",
    "\n",
    "        num_samples = self.model_score[0]\n",
    "        self.precision = self.model_score[1]\n",
    "        self.recall = self.model_score[2]\n",
    "\n",
    "        self.f_score = 2 * ((self.precision * self.recall) /\n",
    "                            (self.precision + self.recall))\n",
    "\n",
    "        return {\n",
    "            'num_samples': num_samples,\n",
    "            'precision': round(self.precision, 3),\n",
    "            'recall': round(self.recall, 3),\n",
    "            'f_score': round(self.f_score, 3)\n",
    "        }\n",
    "\n",
    "    def predict(self, question, num_tags=5):\n",
    "        \"\"\"Get predicted tags with probability scores.\"\"\"\n",
    "        self.result = self.model.predict(question, k=num_tags)\n",
    "\n",
    "        tags = list(map(\n",
    "            lambda tag: tag.replace('__label__', ''), self.result[0][0]))\n",
    "        probability_score = list(map(\n",
    "            lambda score: round(score, 3), self.result[1][0]))\n",
    "\n",
    "        predicted_tags = dict(zip(tags, probability_score))\n",
    "        predicted_tags.pop('')\n",
    "\n",
    "        return predicted_tags"
   ]
  },
  {
   "cell_type": "code",
   "execution_count": 6,
   "metadata": {},
   "outputs": [],
   "source": [
    "def get_predictions(question, no_of_tags):\n",
    "    \"\"\"Get predicted tags and score of the models.\n",
    "\n",
    "    By already loading the trained model and invoking fasttext methods.\n",
    "    \"\"\"\n",
    "    ft_obj = ImplementFastText()\n",
    "    ft_obj.load_model()\n",
    "    result = ft_obj.predict([question], num_tags=no_of_tags)\n",
    "    score = ft_obj.score()\n",
    "\n",
    "    return result, score"
   ]
  },
  {
   "cell_type": "code",
   "execution_count": 9,
   "metadata": {},
   "outputs": [
    {
     "data": {
      "text/plain": [
       "({\"'business'\": 0.041,\n",
       "  \"'entertainment'\": 0.023,\n",
       "  \"'children'\": 0.012,\n",
       "  \"'data'\": 0.009,\n",
       "  \"'activism'\": 0.009,\n",
       "  \"'communication'\": 0.006},\n",
       " {'num_samples': 550, 'precision': 1.0, 'recall': 0.085, 'f_score': 0.157})"
      ]
     },
     "execution_count": 9,
     "metadata": {},
     "output_type": "execute_result"
    }
   ],
   "source": [
    "get_predictions('Initiating a motivational talk', 7)"
   ]
  },
  {
   "cell_type": "code",
   "execution_count": null,
   "metadata": {},
   "outputs": [],
   "source": []
  }
 ],
 "metadata": {
  "kernelspec": {
   "display_name": "Python 3",
   "language": "python",
   "name": "python3"
  },
  "language_info": {
   "codemirror_mode": {
    "name": "ipython",
    "version": 3
   },
   "file_extension": ".py",
   "mimetype": "text/x-python",
   "name": "python",
   "nbconvert_exporter": "python",
   "pygments_lexer": "ipython3",
   "version": "3.7.2"
  }
 },
 "nbformat": 4,
 "nbformat_minor": 2
}
